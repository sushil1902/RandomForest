{
  "nbformat": 4,
  "nbformat_minor": 0,
  "metadata": {
    "colab": {
      "name": "user data // Random Forest",
      "private_outputs": true,
      "provenance": [],
      "authorship_tag": "ABX9TyOz3tuRrRQ7aY79HOFSDf0+",
      "include_colab_link": true
    },
    "kernelspec": {
      "name": "python3",
      "display_name": "Python 3"
    },
    "language_info": {
      "name": "python"
    }
  },
  "cells": [
    {
      "cell_type": "markdown",
      "metadata": {
        "id": "view-in-github",
        "colab_type": "text"
      },
      "source": [
        "<a href=\"https://colab.research.google.com/github/sushil1902/RandomForest/blob/main/user_data_Random_Forest.ipynb\" target=\"_parent\"><img src=\"https://colab.research.google.com/assets/colab-badge.svg\" alt=\"Open In Colab\"/></a>"
      ]
    },
    {
      "cell_type": "code",
      "metadata": {
        "id": "wjj-EQH4RGfH"
      },
      "source": [
        "# Importing libraries\n",
        "import numpy as np\n",
        "import pandas as pd\n",
        "import matplotlib.pyplot as plt\n",
        "\n",
        "# Importing datsets\n",
        "data_set  = pd.read_csv('https://raw.githubusercontent.com/sushil1902/RandomForest/main/User_Data.csv')\n",
        "data_set.head(5)\n",
        "\n",
        "# Extracting dependent and independent variable\n",
        "x = data_set.iloc[:,[2,3]].values\n",
        "y = data_set.iloc[:,4].values\n",
        "\n",
        "#Spliting the data set into train and test\n",
        "from sklearn.model_selection import train_test_split\n",
        "x_train,x_test,y_train,y_test = train_test_split(x,y,train_size=0.25,random_state=0)\n",
        "\n",
        "#Feature scaling\n",
        "from sklearn.preprocessing import StandardScaler\n",
        "std_x = StandardScaler()\n",
        "x_train = std_x.fit_transform(x_train)\n",
        "x_test = std_x.transform(x_test)"
      ],
      "execution_count": null,
      "outputs": []
    },
    {
      "cell_type": "code",
      "metadata": {
        "id": "wWwuLeyZRlNS"
      },
      "source": [
        "# Fitting the RandomForest model\n",
        "from sklearn.ensemble import RandomForestClassifier\n",
        "classifier = RandomForestClassifier(n_estimators=10,criterion='entropy')\n",
        "classifier.fit(x_train,y_train)"
      ],
      "execution_count": null,
      "outputs": []
    },
    {
      "cell_type": "code",
      "metadata": {
        "id": "k3G2pQtTWwCN"
      },
      "source": [
        "# Predicting the result\n",
        "y_pred =classifier.predict(x_test)"
      ],
      "execution_count": null,
      "outputs": []
    },
    {
      "cell_type": "code",
      "metadata": {
        "id": "CB8gYvaHXQdG"
      },
      "source": [
        "# Creating confusion matrix\n",
        "from sklearn.metrics import confusion_matrix\n",
        "cm = confusion_matrix(y_test,y_pred)\n",
        "cm"
      ],
      "execution_count": null,
      "outputs": []
    },
    {
      "cell_type": "code",
      "metadata": {
        "id": "N80gsAE9YPOV"
      },
      "source": [
        ""
      ],
      "execution_count": null,
      "outputs": []
    },
    {
      "cell_type": "code",
      "metadata": {
        "id": "2pvVnj1LZ4dm"
      },
      "source": [
        ""
      ],
      "execution_count": null,
      "outputs": []
    }
  ]
}